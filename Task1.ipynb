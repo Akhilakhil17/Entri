{
  "nbformat": 4,
  "nbformat_minor": 0,
  "metadata": {
    "colab": {
      "provenance": [],
      "authorship_tag": "ABX9TyOeK3hBNuJHo0GdVAhY3lgk",
      "include_colab_link": true
    },
    "kernelspec": {
      "name": "python3",
      "display_name": "Python 3"
    },
    "language_info": {
      "name": "python"
    }
  },
  "cells": [
    {
      "cell_type": "markdown",
      "metadata": {
        "id": "view-in-github",
        "colab_type": "text"
      },
      "source": [
        "<a href=\"https://colab.research.google.com/github/Akhilakhil17/Entri/blob/main/Task1.ipynb\" target=\"_parent\"><img src=\"https://colab.research.google.com/assets/colab-badge.svg\" alt=\"Open In Colab\"/></a>"
      ]
    },
    {
      "cell_type": "markdown",
      "source": [
        "**1.Write a python program to find those numbers which are divisible by 7 and multiples of 5, for user input**"
      ],
      "metadata": {
        "id": "KD7OfkaDm68D"
      }
    },
    {
      "cell_type": "code",
      "execution_count": null,
      "metadata": {
        "colab": {
          "base_uri": "https://localhost:8080/"
        },
        "id": "-wQBHldxhBm_",
        "outputId": "7056e9bb-c76a-4294-bfd0-c308555c78f3"
      },
      "outputs": [
        {
          "output_type": "stream",
          "name": "stdout",
          "text": [
            "Enter the first value:5\n",
            "Enter the second value:700\n",
            "35\n",
            "70\n",
            "105\n",
            "140\n",
            "175\n",
            "210\n",
            "245\n",
            "280\n",
            "315\n",
            "350\n",
            "385\n",
            "420\n",
            "455\n",
            "490\n",
            "525\n",
            "560\n",
            "595\n",
            "630\n",
            "665\n"
          ]
        }
      ],
      "source": [
        "a=int(input(\"Enter 1st Value:\"))\n",
        "b=int(input(\"Enter 2nd Value:\"))\n",
        "for c in range(a,b):\n",
        "  if(c%7==0 and c%5==0):\n",
        "    print(c)"
      ]
    },
    {
      "cell_type": "markdown",
      "source": [
        "**2.Write a python program to check the user input is even or odd or zero**"
      ],
      "metadata": {
        "id": "2L3ZY6Exm4cN"
      }
    },
    {
      "cell_type": "code",
      "source": [
        "a = int(input(\"Enter the Value: \"))\n",
        "if a % 2 == 0:\n",
        "    print(f\"{a} is even\")\n",
        "else:\n",
        "    print(f\"{a} is odd\")"
      ],
      "metadata": {
        "id": "pgY0g34flKOu",
        "colab": {
          "base_uri": "https://localhost:8080/"
        },
        "outputId": "5c90e24a-a999-44c3-ce51-9f023310d9b0"
      },
      "execution_count": null,
      "outputs": [
        {
          "output_type": "stream",
          "name": "stdout",
          "text": [
            "Enter 1st Value: 4\n",
            "4 is even\n"
          ]
        }
      ]
    },
    {
      "cell_type": "markdown",
      "source": [
        "**3.Print decimal part of an input number. If the decimal part is zero print the string : “INTEGER”**"
      ],
      "metadata": {
        "id": "Mz6tPtL6oF9X"
      }
    },
    {
      "cell_type": "code",
      "source": [
        "a = float(input(\"Enter the Value: \"))\n",
        "b= int(a)\n",
        "if a == b:\n",
        "    print(\"INTEGER\")\n",
        "else:\n",
        "    print(f\"Decimal part: {a - b}\")"
      ],
      "metadata": {
        "colab": {
          "base_uri": "https://localhost:8080/"
        },
        "id": "OCU3IhlNoQZO",
        "outputId": "98082531-e1d9-4fcd-8346-4b279a50241c"
      },
      "execution_count": null,
      "outputs": [
        {
          "output_type": "stream",
          "name": "stdout",
          "text": [
            "Enter the Value: 12\n",
            "INTEGER\n"
          ]
        }
      ]
    }
  ]
}